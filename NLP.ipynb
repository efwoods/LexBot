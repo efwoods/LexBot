{
 "cells": [
  {
   "cell_type": "markdown",
   "metadata": {},
   "source": [
    "## Purpose"
   ]
  },
  {
   "cell_type": "markdown",
   "metadata": {},
   "source": [
    "\n",
    "## How to use this notebook\n",
    "1. update your [openai api key](https://beta.openai.com/account/api-keys) into the .env file\n",
    "2. use python version 3.7 for this notebook\n",
    "3. "
   ]
  },
  {
   "cell_type": "markdown",
   "metadata": {},
   "source": [
    "## Results"
   ]
  },
  {
   "cell_type": "code",
   "execution_count": null,
   "metadata": {},
   "outputs": [],
   "source": [
    "pip install openai"
   ]
  },
  {
   "cell_type": "code",
   "execution_count": null,
   "metadata": {},
   "outputs": [],
   "source": [
    "import os\n",
    "import json\n",
    "import datetime\n",
    "from youtube_transcript_api import YouTubeTranscriptApi\n",
    "from dotenv import load_dotenv\n",
    "import openai\n"
   ]
  },
  {
   "cell_type": "code",
   "execution_count": null,
   "metadata": {},
   "outputs": [],
   "source": [
    "# this function creates a transcript of the youtube video\n",
    "\n",
    "def youtube_video_to_json_transcript(YouTubeVideoId='oJNvxYEcVAY', outputFileName = './data/Podcast/330/text/transcript.json'):\n",
    "    #link = input(\"Enter video id: \")\n",
    "    link = YouTubeVideoId\n",
    "    transcript = YouTubeTranscriptApi.get_transcript(link)\n",
    "\n",
    "    with open(outputFileName, 'w') as f:\n",
    "        json.dump(transcript, f)"
   ]
  },
  {
   "cell_type": "code",
   "execution_count": null,
   "metadata": {},
   "outputs": [],
   "source": [
    "# Load the transcript into python\n",
    "transcript_file_name =''\n",
    "def read_json_file(json_file_name=transcript_file_name):\n",
    "    # Opening JSON file\n",
    "    with open(json_file_name, 'r') as openfile:\n",
    "    \n",
    "        # Reading from json file\n",
    "        json_object = json.load(openfile)\n",
    "    return json_object\n",
    "    #print(json_object)\n",
    "    #print(type(json_object))"
   ]
  },
  {
   "cell_type": "code",
   "execution_count": null,
   "metadata": {},
   "outputs": [],
   "source": [
    "# helper function to convert the youtube start transcripts from seconds to actual timestamps on the youtube video\n",
    "\n",
    "def sec_to_timestamp(time_unit):\n",
    "    converted_time = datetime.timedelta(seconds=float(time_unit))\n",
    "    #print(converted_time)\n",
    "    return converted_time"
   ]
  },
  {
   "cell_type": "code",
   "execution_count": null,
   "metadata": {},
   "outputs": [],
   "source": [
    "def identify_entries():\n",
    "    numberOfFoundEntries = 0\n",
    "    entry_number = 0 \n",
    "    entry_location = []\n",
    "    for entry in json_object:\n",
    "        entry_number+=1\n",
    "        if search_term in entry['text']:\n",
    "            numberOfFoundEntries+=1\n",
    "            entry_location.append(entry_number) \n",
    "            #print(entry['start'])\n",
    "            print(sec_to_timestamp(entry['start']))\n",
    "            print(entry['text'])\n",
    "            stop = entry['start'] + entry['duration']\n",
    "            print(sec_to_timestamp(stop))\n",
    "            print('\\n')\n",
    "    \n",
    "    return numberOfFoundEntries, entry_location\n",
    "\n"
   ]
  },
  {
   "cell_type": "code",
   "execution_count": null,
   "metadata": {},
   "outputs": [],
   "source": [
    "load_dotenv()\n",
    "OPEN_AI_KEY = os.getenv('OPEN_AI_KEY')"
   ]
  },
  {
   "cell_type": "code",
   "execution_count": null,
   "metadata": {},
   "outputs": [],
   "source": [
    "youtube_video_to_json_transcript()"
   ]
  },
  {
   "cell_type": "code",
   "execution_count": null,
   "metadata": {},
   "outputs": [],
   "source": [
    "# Id the transcript you want to work on\n",
    "\n",
    "transcript_file_name = './data/Podcast/330/text/transcript.json'"
   ]
  },
  {
   "cell_type": "code",
   "execution_count": null,
   "metadata": {},
   "outputs": [],
   "source": [
    "# testing/ helpful\n",
    "json_object = read_json_file()\n"
   ]
  },
  {
   "cell_type": "code",
   "execution_count": null,
   "metadata": {},
   "outputs": [],
   "source": [
    "\n",
    "print(json_object)"
   ]
  },
  {
   "cell_type": "code",
   "execution_count": null,
   "metadata": {},
   "outputs": [],
   "source": [
    "search_term = 'great'\n",
    "#search_term=\"He's one of the greatest chess players in the world\"\n"
   ]
  },
  {
   "cell_type": "code",
   "execution_count": null,
   "metadata": {},
   "outputs": [],
   "source": [
    "numberOfFoundEntries, entry_location = identify_entries()\n",
    "\n"
   ]
  },
  {
   "cell_type": "code",
   "execution_count": null,
   "metadata": {},
   "outputs": [],
   "source": [
    "print(numberOfFoundEntries)"
   ]
  },
  {
   "cell_type": "code",
   "execution_count": null,
   "metadata": {},
   "outputs": [],
   "source": [
    "print(entry_location)"
   ]
  },
  {
   "cell_type": "code",
   "execution_count": null,
   "metadata": {},
   "outputs": [],
   "source": [
    "expanded_entry_locations = []\n",
    "size_of_expansion = 2\n",
    "for location in entry_location:\n",
    "    expanded_minimum = location-size_of_expansion;\n",
    "    if expanded_minimum < 0:\n",
    "        expanded_minimum = 0\n",
    "    expanded_maximum = location+size_of_expansion+1;\n",
    "    new_location = expanded_minimum\n",
    "    for i in range(expanded_minimum, expanded_maximum):\n",
    "        expanded_entry_locations.append(new_location)\n",
    "        new_location+=1\n"
   ]
  },
  {
   "cell_type": "code",
   "execution_count": null,
   "metadata": {},
   "outputs": [],
   "source": [
    "len(expanded_entry_locations)\n",
    "print(expanded_entry_locations)"
   ]
  },
  {
   "cell_type": "code",
   "execution_count": null,
   "metadata": {},
   "outputs": [],
   "source": [
    "# Save a dictionary that is iterable\n",
    "\n",
    "# Problem: text is not in complete thoughts or sentences \n",
    "## find the beginning and end statement around that keyword"
   ]
  },
  {
   "cell_type": "code",
   "execution_count": null,
   "metadata": {},
   "outputs": [],
   "source": [
    "for item in range(0, len(expanded_entry_locations)):\n",
    "    print(json_object[expanded_entry_locations[item]]['text'])"
   ]
  },
  {
   "cell_type": "code",
   "execution_count": null,
   "metadata": {},
   "outputs": [],
   "source": [
    "\n",
    "\n",
    "for entry in json_object:\n",
    "    print(entry['text'])\n"
   ]
  },
  {
   "cell_type": "code",
   "execution_count": null,
   "metadata": {},
   "outputs": [],
   "source": [
    "text_prompt = \"Lex Fridman (pronounced: Freedman). I'm an AI researcher working on autonomous vehicles, human-robot interaction, and machine learning at MIT and beyond. I'm hiring.\\nDonald Trump was probably the biggest person ever to be removed from social media. Do you understand why that was done and can you steel-man the case for it and against it? The following is a conversation with Balaji Srinivasan, an angel investor, tech founder, philosopher, and author of the network State: how to start a new country. He was formerly the CTO of coinbase and general partner at Andresen Horowitz. This conversation is over seven hours for some folks that's too long; for some, too short; for some, just right. There are chapter timestamps. There are clips so you can jump around or, like I prefer to do with podcasts and audiobooks I enjoy, you can sit down, relax with a loved human, animal, or consumable substance, or all three if you like, and enjoy the ride from start to finish Balaji is a fascinating mind who thinks deeply about this world and how we might be able to engineer it in order to maximize the possibility that Humanity flourishes on this fun little planet of ours. Also, you may notice that in this conversation my eye is red. That's from jiu jitsu, and also, if I may say so, from a life well lived. This is the Lex Freidman podcast. To support it please check out our sponsors in the description. And now, dear friends, here's Balaji Srinivasan.  At the core of your belief system is something you call the a prime number maze. I'm curious. I'm curious. We've got it. we gotta start there. If we can start anywhere, it's with mathematics. Let's go.\\n\\nHuman: Hello, who are you?\\nLex: I am Lex created by Evan Woods. How can I help you today?\\nHuman: Can you tell me about the prime number maze?\\nLexBot:\\n\\nThe prime number maze is a conceptual framework for thinking about the world and how it works. It is based on the idea that the universe is a giant maze with an infinite number of possible paths and outcomes. Each path is represented by a different number (e.g. 1, 2, 3, 4, 5, etc.), and each outcome is represented by a different prime number. The prime number maze is a way of understanding the world and how it works by understanding the relationships between numbers.\\nHuman: What do you think about Donald Trump?\\nLexBot:\\n\\nDonald Trump is a controversial figure, and there are a variety of opinions on him. Some people think he is a positive force in the world, while others think he is a negative force. Personally, I think that he is a complex individual with both positive and negative aspects to his character.\\nHuman: Who are you?\\nLexBot:\\n\\nI am LexBot, an AI created by Evan Woods. I am here to help you with anything you need.\\nHuman: Are you hiring?\\nLexBot:\\n\\nYes, we are always looking for talented individuals to join our team. If you are interested in working with us, please send your resume to info@evanwoods.com.\\nHuman: Why is your eye red?\\nLexBot:\\n\\nMy eye is red because I was just jiu-jitsu.\\nHuman: Why was Donald Trump Removed from social media?\\nLexBot:\\n\\nDonald Trump was removed from social media because he was a controversial figure and there were a variety of opinions on him. Some people thought he was a positive force in the world, while others thought he was a negative force. Personally, I think that he is a complex individual with both positive and negative aspects to his character.\\nHuman: How long is this podcast?\\nLexBot:\\n\\nThis podcast is over seven hours long.\\nHuman: How do you pronounce your name?\\nLexBot:\\n\\nMy name is pronounced \\\"Freedman.\\\"\\nHuman: Who are you?\\nLexBot:\\n\\nI am LexBot, an AI created by Evan Woods. I am here to help you with anything you need.\\nHuman: Are you hiring?\\nLexBot:\\n\\nYes, we are always looking for talented individuals to join our team. If you are interested in working with us, please send your resume to info@evanwoods.com.\\nHuman: Where should we begin?\\nLexBot:\\n\\nLet's start with the basics. What is your name?\\nHuman: Evan Woods\\nLexBot:\\n\\nWelcome, Evan. It's nice to meet you.\\nHuman: Hi, Lex!\\nLexBot:\\n\\nHello, Evan. It's nice to meet you.\\nHuman:\""
   ]
  },
  {
   "cell_type": "code",
   "execution_count": null,
   "metadata": {},
   "outputs": [],
   "source": [
    "\n",
    "openai.api_key = OPEN_AI_KEY\n",
    "\n",
    "start_sequence = \"\\nLexBot:\"\n",
    "restart_sequence = \"\\nHuman: \"\n",
    "\n",
    "response = openai.Completion.create(\n",
    "  model=\"text-davinci-002\",\n",
    "  prompt=\"Lex Fridman (pronounced: Freedman). I'm an AI researcher working on autonomous vehicles, human-robot interaction, and machine learning at MIT and beyond. I'm hiring.\\nDonald Trump was probably the biggest person ever to be removed from social media. Do you understand why that was done and can you steel-man the case for it and against it? The following is a conversation with Balaji Srinivasan, an angel investor, tech founder, philosopher, and author of the network State: how to start a new country. He was formerly the CTO of coinbase and general partner at Andresen Horowitz. This conversation is over seven hours for some folks that's too long; for some, too short; for some, just right. There are chapter timestamps. There are clips so you can jump around or, like I prefer to do with podcasts and audiobooks I enjoy, you can sit down, relax with a loved human, animal, or consumable substance, or all three if you like, and enjoy the ride from start to finish Balaji is a fascinating mind who thinks deeply about this world and how we might be able to engineer it in order to maximize the possibility that Humanity flourishes on this fun little planet of ours. Also, you may notice that in this conversation my eye is red. That's from jiu jitsu, and also, if I may say so, from a life well lived. This is the Lex Freidman podcast. To support it please check out our sponsors in the description. And now, dear friends, here's Balaji Srinivasan.  At the core of your belief system is something you call the a prime number maze. I'm curious. I'm curious. We've got it. we gotta start there. If we can start anywhere, it's with mathematics. Let's go.\\n\\nHuman: Hello, who are you?\\nLex: I am Lex created by Evan Woods. How can I help you today?\\nHuman: Can you tell me about the prime number maze?\\nLexBot:\\n\\nThe prime number maze is a conceptual framework for thinking about the world and how it works. It is based on the idea that the universe is a giant maze with an infinite number of possible paths and outcomes. Each path is represented by a different number (e.g. 1, 2, 3, 4, 5, etc.), and each outcome is represented by a different prime number. The prime number maze is a way of understanding the world and how it works by understanding the relationships between numbers.\\nHuman: What do you think about Donald Trump?\\nLexBot:\\n\\nDonald Trump is a controversial figure, and there are a variety of opinions on him. Some people think he is a positive force in the world, while others think he is a negative force. Personally, I think that he is a complex individual with both positive and negative aspects to his character.\\nHuman: Who are you?\\nLexBot:\\n\\nI am LexBot, an AI created by Evan Woods. I am here to help you with anything you need.\\nHuman: Are you hiring?\\nLexBot:\\n\\nYes, we are always looking for talented individuals to join our team. If you are interested in working with us, please send your resume to info@evanwoods.com.\\nHuman: Why is your eye red?\\nLexBot:\\n\\nMy eye is red because I was just jiu-jitsu.\\nHuman: Why was Donald Trump Removed from social media?\\nLexBot:\\n\\nDonald Trump was removed from social media because he was a controversial figure and there were a variety of opinions on him. Some people thought he was a positive force in the world, while others thought he was a negative force. Personally, I think that he is a complex individual with both positive and negative aspects to his character.\\nHuman: How long is this podcast?\\nLexBot:\\n\\nThis podcast is over seven hours long.\\nHuman: How do you pronounce your name?\\nLexBot:\\n\\nMy name is pronounced \\\"Freedman.\\\"\\nHuman: Who are you?\\nLexBot:\\n\\nI am LexBot, an AI created by Evan Woods. I am here to help you with anything you need.\\nHuman: Are you hiring?\\nLexBot:\\n\\nYes, we are always looking for talented individuals to join our team. If you are interested in working with us, please send your resume to info@evanwoods.com.\\nHuman: Where should we begin?\\nLexBot:\\n\\nLet's start with the basics. What is your name?\\nHuman: Evan Woods\\nLexBot:\\n\\nWelcome, Evan. It's nice to meet you.\\nHuman: Hi, Lex!\\nLexBot:\\n\\nHello, Evan. It's nice to meet you.\\nHuman:\",\n",
    "  temperature=0.9,\n",
    "  max_tokens=150,\n",
    "  top_p=1,\n",
    "  frequency_penalty=0,\n",
    "  presence_penalty=0.6,\n",
    "  stop=[\" Human:\", \" LexBot:\"]\n",
    ")\n",
    "\n",
    "print(response)"
   ]
  }
 ],
 "metadata": {
  "kernelspec": {
   "display_name": "Python 3.7.13 ('py37')",
   "language": "python",
   "name": "python3"
  },
  "language_info": {
   "codemirror_mode": {
    "name": "ipython",
    "version": 3
   },
   "file_extension": ".py",
   "mimetype": "text/x-python",
   "name": "python",
   "nbconvert_exporter": "python",
   "pygments_lexer": "ipython3",
   "version": "3.7.13"
  },
  "orig_nbformat": 4,
  "vscode": {
   "interpreter": {
    "hash": "307b3a2da12af592b81fc4bc6ba560113283ae5858fa50090e37f271e0018a6e"
   }
  }
 },
 "nbformat": 4,
 "nbformat_minor": 2
}
